{
 "cells": [
  {
   "cell_type": "code",
   "execution_count": 5,
   "id": "professional-startup",
   "metadata": {},
   "outputs": [
    {
     "name": "stdout",
     "output_type": "stream",
     "text": [
      "Hello\n",
      "How are you?\n"
     ]
    }
   ],
   "source": [
    "%%bash\n",
    "#!/bin/bash\n",
    "\n",
    "echo \"Hello\" $1\n",
    "echo \"How are you?\"\n"
   ]
  },
  {
   "cell_type": "code",
   "execution_count": null,
   "id": "ambient-ordering",
   "metadata": {},
   "outputs": [],
   "source": []
  },
  {
   "cell_type": "code",
   "execution_count": 7,
   "id": "raising-friend",
   "metadata": {},
   "outputs": [
    {
     "name": "stderr",
     "output_type": "stream",
     "text": [
      "mkdir: cannot create directory 'LinuxSection': File exists\n"
     ]
    }
   ],
   "source": [
    "%%bash\n",
    "mkdir LinuxSection\n"
   ]
  },
  {
   "cell_type": "code",
   "execution_count": 8,
   "id": "drawn-functionality",
   "metadata": {},
   "outputs": [
    {
     "name": "stdout",
     "output_type": "stream",
     "text": [
      "/home/eanbit1/exam-revision/LinuxSection\n"
     ]
    }
   ],
   "source": [
    "cd LinuxSection"
   ]
  },
  {
   "cell_type": "code",
   "execution_count": 9,
   "id": "responsible-lodging",
   "metadata": {},
   "outputs": [],
   "source": [
    "mkdir data results code"
   ]
  },
  {
   "cell_type": "code",
   "execution_count": 10,
   "id": "negative-snake",
   "metadata": {},
   "outputs": [
    {
     "name": "stdout",
     "output_type": "stream",
     "text": [
      "/home/eanbit1/exam-revision/LinuxSection/data\n"
     ]
    }
   ],
   "source": [
    "cd data"
   ]
  },
  {
   "cell_type": "code",
   "execution_count": 11,
   "id": "colored-salem",
   "metadata": {},
   "outputs": [],
   "source": [
    "mkdir raw derived"
   ]
  },
  {
   "cell_type": "code",
   "execution_count": 12,
   "id": "perceived-instrumentation",
   "metadata": {},
   "outputs": [
    {
     "name": "stdout",
     "output_type": "stream",
     "text": [
      "/home/eanbit1/exam-revision/LinuxSection\n"
     ]
    }
   ],
   "source": [
    "cd ../"
   ]
  },
  {
   "cell_type": "code",
   "execution_count": 20,
   "id": "bibliographic-rider",
   "metadata": {},
   "outputs": [
    {
     "name": "stderr",
     "output_type": "stream",
     "text": [
      "--2021-01-22 16:28:28--  https://github.com/kipkurui/Intro2Linux2019/raw/master/Data/genomic_data.zip\n",
      "Resolving github.com (github.com)... 140.82.121.4\n",
      "Connecting to github.com (github.com)|140.82.121.4|:443... connected.\n",
      "HTTP request sent, awaiting response... 302 Found\n",
      "Location: https://raw.githubusercontent.com/kipkurui/Intro2Linux2019/master/Data/genomic_data.zip [following]\n",
      "--2021-01-22 16:28:29--  https://raw.githubusercontent.com/kipkurui/Intro2Linux2019/master/Data/genomic_data.zip\n",
      "Resolving raw.githubusercontent.com (raw.githubusercontent.com)... 151.101.36.133\n",
      "Connecting to raw.githubusercontent.com (raw.githubusercontent.com)|151.101.36.133|:443... connected.\n",
      "HTTP request sent, awaiting response... 200 OK\n",
      "Length: 231231 (226K) [application/zip]\n",
      "Saving to: './data/raw/genomic_data.zip.2'\n",
      "\n",
      "     0K .......... .......... .......... .......... .......... 22%  339K 1s\n",
      "    50K .......... .......... .......... .......... .......... 44%  294K 0s\n",
      "   100K .......... .......... .......... .......... .......... 66% 3.74M 0s\n",
      "   150K .......... .......... .......... .......... .......... 88%  395K 0s\n",
      "   200K .......... .......... .....                           100%  626K=0.5s\n",
      "\n",
      "2021-01-22 16:28:31 (453 KB/s) - './data/raw/genomic_data.zip.2' saved [231231/231231]\n",
      "\n"
     ]
    }
   ],
   "source": [
    "%%bash\n",
    "wget https://github.com/kipkurui/Intro2Linux2019/raw/master/Data/genomic_data.zip -P ./data/raw"
   ]
  },
  {
   "cell_type": "code",
   "execution_count": 22,
   "id": "systematic-sarah",
   "metadata": {},
   "outputs": [
    {
     "name": "stdout",
     "output_type": "stream",
     "text": [
      "Archive:  ./data/raw/genomic_data.zip.2\n",
      "   creating: ./data/derived/genomic_data/\n",
      "  inflating: ./data/derived/genomic_data/Pfb_seq.fa  \n",
      "  inflating: ./data/derived/genomic_data/gch1s-metazoan.fa  \n",
      "  inflating: ./data/derived/genomic_data/sample.fa  \n",
      "  inflating: ./data/derived/genomic_data/lamina.bed  \n",
      "  inflating: ./data/derived/genomic_data/nrf1_seq.fa  \n",
      "  inflating: ./data/derived/genomic_data/SP1.fq  \n"
     ]
    }
   ],
   "source": [
    "%%bash\n",
    "unzip ./data/raw/genomic_data.zip.2 -d ./data/derived"
   ]
  },
  {
   "cell_type": "code",
   "execution_count": 23,
   "id": "according-auckland",
   "metadata": {},
   "outputs": [
    {
     "name": "stdout",
     "output_type": "stream",
     "text": [
      "On branch main\n",
      "Your branch is up-to-date with 'origin/main'.\n",
      "\n",
      "Untracked files:\n",
      "  (use \"git add <file>...\" to include in what will be committed)\n",
      "\n",
      "\t../.ipynb_checkpoints/\n",
      "\t./\n",
      "\t../exam-revision.ipynb\n",
      "\t../hello.sh\n",
      "\n",
      "nothing added to commit but untracked files present (use \"git add\" to track)\n"
     ]
    }
   ],
   "source": [
    "%%bash\n",
    "git status"
   ]
  },
  {
   "cell_type": "code",
   "execution_count": null,
   "id": "wired-glance",
   "metadata": {},
   "outputs": [],
   "source": [
    "%%bash\n",
    "git add "
   ]
  },
  {
   "cell_type": "code",
   "execution_count": 19,
   "id": "forty-valley",
   "metadata": {},
   "outputs": [
    {
     "name": "stdout",
     "output_type": "stream",
     "text": [
      "Archive:  genomic_data.zip\n",
      "There are 0 files\n",
      "0\n"
     ]
    },
    {
     "name": "stderr",
     "output_type": "stream",
     "text": [
      "--2021-01-22 16:27:20--  https://github.com/kipkurui/Intro2Linux2019/raw/master/Data/genomic_data.zip\n",
      "Resolving github.com (github.com)... 140.82.121.4\n",
      "Connecting to github.com (github.com)|140.82.121.4|:443... connected.\n",
      "HTTP request sent, awaiting response... 302 Found\n",
      "Location: https://raw.githubusercontent.com/kipkurui/Intro2Linux2019/master/Data/genomic_data.zip [following]\n",
      "--2021-01-22 16:27:21--  https://raw.githubusercontent.com/kipkurui/Intro2Linux2019/master/Data/genomic_data.zip\n",
      "Resolving raw.githubusercontent.com (raw.githubusercontent.com)... 151.101.36.133\n",
      "Connecting to raw.githubusercontent.com (raw.githubusercontent.com)|151.101.36.133|:443... connected.\n",
      "HTTP request sent, awaiting response... 200 OK\n",
      "Length: 231231 (226K) [application/zip]\n",
      "Saving to: 'genomic_data.zip'\n",
      "\n",
      "     0K .......... .......... .......... .......... .......... 22%  341K 1s\n",
      "    50K .......... .......... .......... .......... .......... 44%  849K 0s\n",
      "   100K .......... .......... .......... .......... .......... 66%  435K 0s\n",
      "   150K .......... .......... .......... .......... .......... 88% 1.53M 0s\n",
      "   200K .......... .......... .....                           100% 1.94M=0.4s\n",
      "\n",
      "2021-01-22 16:27:22 (618 KB/s) - 'genomic_data.zip' saved [231231/231231]\n",
      "\n",
      "cp: cannot create regular file 'LinuxSection/Data/Downloads': No such file or directory\n",
      "checkdir:  cannot create extraction directory: LinuxSection/Data/Derived\n",
      "           No such file or directory\n",
      "ls: cannot access LinuxSection/Data/Derived/genomic_data: No such file or directory\n",
      "ls: cannot access LinuxSection/Data/Derived/genomic_data/*.fa: No such file or directory\n"
     ]
    }
   ],
   "source": [
    "%%bash\n",
    "# (2 marks)\n",
    "wget https://github.com/kipkurui/Intro2Linux2019/raw/master/Data/genomic_data.zip \n",
    "\n",
    "# (1 mark)\n",
    "cp genomic_data.zip LinuxSection/Data/Downloads \n",
    "\n",
    "# (2 marks)\n",
    "unzip genomic_data.zip -d LinuxSection/Data/Derived/ \n",
    "\n",
    "#mv genomic_data LinuxSection/Data/Derived/\n",
    "\n",
    "# (2 makrs)\n",
    "echo \"There are `ls LinuxSection/Data/Derived/genomic_data |wc -l` files\" \n",
    "\n",
    "# (3 marks)\n",
    "echo `ls LinuxSection/Data/Derived/genomic_data/*.fa | wc -l`"
   ]
  },
  {
   "cell_type": "code",
   "execution_count": null,
   "id": "spread-pipeline",
   "metadata": {},
   "outputs": [],
   "source": []
  }
 ],
 "metadata": {
  "kernelspec": {
   "display_name": "Python 3",
   "language": "python",
   "name": "python3"
  },
  "language_info": {
   "codemirror_mode": {
    "name": "ipython",
    "version": 3
   },
   "file_extension": ".py",
   "mimetype": "text/x-python",
   "name": "python",
   "nbconvert_exporter": "python",
   "pygments_lexer": "ipython3",
   "version": "3.8.6"
  }
 },
 "nbformat": 4,
 "nbformat_minor": 5
}
